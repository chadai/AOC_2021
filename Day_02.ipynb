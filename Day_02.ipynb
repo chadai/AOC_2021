{
 "cells": [
  {
   "cell_type": "markdown",
   "id": "8008e08e-ef5c-4c15-9f19-8b89a4296c0a",
   "metadata": {},
   "source": [
    "# Puzzle 01"
   ]
  },
  {
   "cell_type": "code",
   "execution_count": null,
   "id": "732f2fb2-e63b-4222-aa2c-46a49dfacbeb",
   "metadata": {},
   "outputs": [],
   "source": []
  },
  {
   "cell_type": "code",
   "execution_count": null,
   "id": "66d96ec7-de2b-4f71-9319-b4a8d999b9e8",
   "metadata": {},
   "outputs": [],
   "source": []
  },
  {
   "cell_type": "code",
   "execution_count": null,
   "id": "eb45a80c-fce0-4e9d-b2fd-84e244749777",
   "metadata": {},
   "outputs": [],
   "source": []
  },
  {
   "cell_type": "code",
   "execution_count": null,
   "id": "a3ec8950-f76b-40b5-add7-448c0a69272c",
   "metadata": {},
   "outputs": [],
   "source": []
  },
  {
   "cell_type": "code",
   "execution_count": null,
   "id": "50b6a791-77c0-41b6-9060-bf3d171b1b4e",
   "metadata": {},
   "outputs": [],
   "source": []
  }
 ],
 "metadata": {
  "kernelspec": {
   "display_name": "Python 3 (ipykernel)",
   "language": "python",
   "name": "python3"
  },
  "language_info": {
   "codemirror_mode": {
    "name": "ipython",
    "version": 3
   },
   "file_extension": ".py",
   "mimetype": "text/x-python",
   "name": "python",
   "nbconvert_exporter": "python",
   "pygments_lexer": "ipython3",
   "version": "3.9.7"
  }
 },
 "nbformat": 4,
 "nbformat_minor": 5
}
